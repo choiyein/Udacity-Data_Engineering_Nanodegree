{
 "metadata": {
  "language_info": {
   "codemirror_mode": {
    "name": "ipython",
    "version": 3
   },
   "file_extension": ".py",
   "mimetype": "text/x-python",
   "name": "python",
   "nbconvert_exporter": "python",
   "pygments_lexer": "ipython3",
   "version": "3.9.1"
  },
  "orig_nbformat": 4,
  "kernelspec": {
   "name": "python3",
   "display_name": "Python 3.9.1 64-bit (conda)"
  },
  "interpreter": {
   "hash": "eb16c81a322381f515c87563b3e0f6819bcf128beb7b849cfeba9cabee086dfa"
  }
 },
 "nbformat": 4,
 "nbformat_minor": 2,
 "cells": [
  {
   "cell_type": "code",
   "execution_count": 1,
   "metadata": {},
   "outputs": [],
   "source": [
    "%load_ext sql"
   ]
  },
  {
   "cell_type": "code",
   "execution_count": 2,
   "metadata": {},
   "outputs": [],
   "source": [
    "from time import time\n",
    "import configparser\n",
    "import matplotlib.pyplot as plt\n",
    "import pandas as pd\n",
    "import psycopg2\n",
    "import sqlalchemy\n",
    "import boto3"
   ]
  },
  {
   "source": [
    "## Import Configuration For Redshift Cluster"
   ],
   "cell_type": "markdown",
   "metadata": {}
  },
  {
   "cell_type": "code",
   "execution_count": 3,
   "metadata": {},
   "outputs": [],
   "source": [
    "config = configparser.ConfigParser()\n",
    "config.read_file(open('dwh.cfg'))\n",
    "\n",
    "KEY=config.get('AWS','key')\n",
    "SECRET= config.get('AWS','secret')\n",
    "\n",
    "DB_NAME= config.get(\"CLUSTER\",\"DB_NAME\")\n",
    "DB_USER= config.get(\"CLUSTER\",\"DB_USER\")\n",
    "DB_PASSWORD= config.get(\"CLUSTER\",\"DB_PASSWORD\")\n",
    "DB_PORT = config.get(\"CLUSTER\",\"DB_PORT\")\n",
    "DB_ENDPOINT = config.get(\"CLUSTER\",\"HOST\")\n",
    "DB_ROLE_ARN = config.get(\"IAM_ROLE\",\"ARN\")\n",
    "DB_REGION = config.get(\"CLUSTER\",\"DB_REGION\")\n",
    "DB_IAM_ROLE_NAME=config.get(\"CLUSTER\",\"DB_IAM_ROLE_NAME\")\n",
    "DB_CLUSTER_IDENTIFIER = config.get(\"CLUSTER\",\"DB_CLUSTER_IDENTIFIER\")"
   ]
  },
  {
   "source": [
    "## Connect To Redshift Cluster"
   ],
   "cell_type": "markdown",
   "metadata": {}
  },
  {
   "cell_type": "code",
   "execution_count": 4,
   "metadata": {},
   "outputs": [],
   "source": [
    "connect_to_redshift = \"postgresql+psycopg2://{}:{}@{}:{}/{}\".format(DB_USER, DB_PASSWORD, DB_ENDPOINT, DB_PORT, DB_NAME)\n",
    "%sql $connect_to_redshift"
   ]
  },
  {
   "source": [
    "## Number of Records For Each Table "
   ],
   "cell_type": "markdown",
   "metadata": {}
  },
  {
   "source": [
    "se = %sql SELECT COUNT(*) FROM staging_events;\n",
    "ss = %sql SELECT COUNT(*) FROM staging_songs;\n",
    "songplays = %sql SELECT COUNT(*) FROM songplays;\n",
    "users = %sql SELECT COUNT(*) FROM users;\n",
    "songs = %sql SELECT COUNT(*) FROM songs;\n",
    "artists = %sql SELECT COUNT(*) FROM artists;\n",
    "time = %sql SELECT COUNT(*) FROM time;\n",
    "num_rows = [item[0][0] for item in [se, ss, songplays, users, songs, artists, time]]"
   ],
   "cell_type": "code",
   "metadata": {},
   "execution_count": null,
   "outputs": []
  },
  {
   "source": [
    "se = %sql SELECT COUNT(*) FROM staging_events;\n",
    "ss = %sql SELECT COUNT(*) FROM staging_songs;\n",
    "songplays = %sql SELECT COUNT(DISTINCT songplay_id) FROM songplays;\n",
    "users = %sql SELECT COUNT(DISTINCT user_id) FROM users;\n",
    "songs = %sql SELECT COUNT(DISTINCT song_id) FROM songs;\n",
    "artists = %sql SELECT COUNT(DISTINCT artist_id) FROM artists;\n",
    "time = %sql SELECT COUNT(DISTINCT start_time) FROM time;\n",
    "uniq_pk = [item[0][0] for item in [se, ss, songplays, users, songs, artists, time]]"
   ],
   "cell_type": "code",
   "metadata": {},
   "execution_count": null,
   "outputs": []
  },
  {
   "cell_type": "code",
   "execution_count": 7,
   "metadata": {},
   "outputs": [],
   "source": [
    "dwh = pd.DataFrame(index = ['staging_events', 'staging_songs', 'songplays', 'users', 'songs', 'artists', 'time'],\n",
    "                   data = {'num_rows': num_rows, 'uniq_pk': uniq_pk})"
   ]
  },
  {
   "cell_type": "code",
   "execution_count": 8,
   "metadata": {},
   "outputs": [
    {
     "output_type": "execute_result",
     "data": {
      "text/plain": [
       "                num_rows  uniq_pk\n",
       "staging_events      8056     8056\n",
       "staging_songs      14896    14896\n",
       "songplays            333      333\n",
       "users                 96       96\n",
       "songs              14896    14896\n",
       "artists            10025     9553\n",
       "time                8023     8023"
      ],
      "text/html": "<div>\n<style scoped>\n    .dataframe tbody tr th:only-of-type {\n        vertical-align: middle;\n    }\n\n    .dataframe tbody tr th {\n        vertical-align: top;\n    }\n\n    .dataframe thead th {\n        text-align: right;\n    }\n</style>\n<table border=\"1\" class=\"dataframe\">\n  <thead>\n    <tr style=\"text-align: right;\">\n      <th></th>\n      <th>num_rows</th>\n      <th>uniq_pk</th>\n    </tr>\n  </thead>\n  <tbody>\n    <tr>\n      <th>staging_events</th>\n      <td>8056</td>\n      <td>8056</td>\n    </tr>\n    <tr>\n      <th>staging_songs</th>\n      <td>14896</td>\n      <td>14896</td>\n    </tr>\n    <tr>\n      <th>songplays</th>\n      <td>333</td>\n      <td>333</td>\n    </tr>\n    <tr>\n      <th>users</th>\n      <td>96</td>\n      <td>96</td>\n    </tr>\n    <tr>\n      <th>songs</th>\n      <td>14896</td>\n      <td>14896</td>\n    </tr>\n    <tr>\n      <th>artists</th>\n      <td>10025</td>\n      <td>9553</td>\n    </tr>\n    <tr>\n      <th>time</th>\n      <td>8023</td>\n      <td>8023</td>\n    </tr>\n  </tbody>\n</table>\n</div>"
     },
     "metadata": {},
     "execution_count": 8
    }
   ],
   "source": [
    "dwh"
   ]
  },
  {
   "source": [
    "## Number of Nulls Per Table"
   ],
   "cell_type": "markdown",
   "metadata": {}
  },
  {
   "source": [
    "** Songplays **"
   ],
   "cell_type": "markdown",
   "metadata": {}
  },
  {
   "source": [
    "null_pk =        %sql SELECT COUNT(songplay_id) FROM songplays WHERE songplay_id IS NULL;\n",
    "null_userId =    %sql SELECT COUNT(user_id)     FROM songplays WHERE user_id IS NULL;\n",
    "null_st =        %sql SELECT COUNT(start_time)  FROM songplays WHERE start_time IS NULL;\n",
    "null_level =     %sql SELECT COUNT(level)       FROM songplays WHERE level IS NULL;\n",
    "null_songId =    %sql SELECT COUNT(song_id)     FROM songplays WHERE song_id IS NULL;\n",
    "null_artistId =  %sql SELECT COUNT(artist_id)   FROM songplays WHERE artist_id IS NULL;\n",
    "null_sessionId = %sql SELECT COUNT(session_id)  FROM songplays WHERE session_id IS NULL;\n",
    "null_location =  %sql SELECT COUNT(location)    FROM songplays WHERE location IS NULL;\n",
    "null_userAgent = %sql SELECT COUNT(user_agent)  FROM songplays WHERE user_agent IS NULL;\n",
    "null_sp = [item[0][0] for item in [null_pk, null_userId, null_st, null_level, null_songId, null_artistId, null_sessionId, null_location, null_userAgent]]\n",
    "null_songplays = pd.DataFrame(data = {'num_nulls': null_sp}, index = ['songplay_id', 'user_id', 'start_time', 'level', 'song_id', 'artist_id', 'session_id', 'location', 'user_agent'])"
   ],
   "cell_type": "code",
   "metadata": {},
   "execution_count": null,
   "outputs": []
  },
  {
   "cell_type": "code",
   "execution_count": 10,
   "metadata": {},
   "outputs": [
    {
     "output_type": "execute_result",
     "data": {
      "text/plain": [
       "             num_nulls\n",
       "songplay_id          0\n",
       "user_id              0\n",
       "start_time           0\n",
       "level                0\n",
       "song_id              0\n",
       "artist_id            0\n",
       "session_id           0\n",
       "location             0\n",
       "user_agent           0"
      ],
      "text/html": "<div>\n<style scoped>\n    .dataframe tbody tr th:only-of-type {\n        vertical-align: middle;\n    }\n\n    .dataframe tbody tr th {\n        vertical-align: top;\n    }\n\n    .dataframe thead th {\n        text-align: right;\n    }\n</style>\n<table border=\"1\" class=\"dataframe\">\n  <thead>\n    <tr style=\"text-align: right;\">\n      <th></th>\n      <th>num_nulls</th>\n    </tr>\n  </thead>\n  <tbody>\n    <tr>\n      <th>songplay_id</th>\n      <td>0</td>\n    </tr>\n    <tr>\n      <th>user_id</th>\n      <td>0</td>\n    </tr>\n    <tr>\n      <th>start_time</th>\n      <td>0</td>\n    </tr>\n    <tr>\n      <th>level</th>\n      <td>0</td>\n    </tr>\n    <tr>\n      <th>song_id</th>\n      <td>0</td>\n    </tr>\n    <tr>\n      <th>artist_id</th>\n      <td>0</td>\n    </tr>\n    <tr>\n      <th>session_id</th>\n      <td>0</td>\n    </tr>\n    <tr>\n      <th>location</th>\n      <td>0</td>\n    </tr>\n    <tr>\n      <th>user_agent</th>\n      <td>0</td>\n    </tr>\n  </tbody>\n</table>\n</div>"
     },
     "metadata": {},
     "execution_count": 10
    }
   ],
   "source": [
    "null_songplays"
   ]
  },
  {
   "source": [
    "** Users **"
   ],
   "cell_type": "markdown",
   "metadata": {}
  },
  {
   "source": [
    "null_userId = %sql SELECT COUNT(user_id)    FROM users WHERE user_id IS NULL;\n",
    "null_fn =     %sql SELECT COUNT(first_name) FROM users WHERE first_name IS NULL;\n",
    "null_ln =     %sql SELECT COUNT(last_name)  FROM users WHERE last_name IS NULL;\n",
    "null_gender = %sql SELECT COUNT(gender)     FROM users WHERE gender IS NULL;\n",
    "null_level =  %sql SELECT COUNT(level)      FROM users WHERE level IS NULL;\n",
    "null_u = [item[0][0] for item in [null_userId, null_fn, null_ln, null_gender, null_level]]\n",
    "null_users = pd.DataFrame(data = {'num_nulls': null_u}, index = ['user_id', 'first_name', 'last_name', 'gender', 'level'])"
   ],
   "cell_type": "code",
   "metadata": {},
   "execution_count": null,
   "outputs": []
  },
  {
   "cell_type": "code",
   "execution_count": 12,
   "metadata": {},
   "outputs": [
    {
     "output_type": "execute_result",
     "data": {
      "text/plain": [
       "            num_nulls\n",
       "user_id             0\n",
       "first_name          0\n",
       "last_name           0\n",
       "gender              0\n",
       "level               0"
      ],
      "text/html": "<div>\n<style scoped>\n    .dataframe tbody tr th:only-of-type {\n        vertical-align: middle;\n    }\n\n    .dataframe tbody tr th {\n        vertical-align: top;\n    }\n\n    .dataframe thead th {\n        text-align: right;\n    }\n</style>\n<table border=\"1\" class=\"dataframe\">\n  <thead>\n    <tr style=\"text-align: right;\">\n      <th></th>\n      <th>num_nulls</th>\n    </tr>\n  </thead>\n  <tbody>\n    <tr>\n      <th>user_id</th>\n      <td>0</td>\n    </tr>\n    <tr>\n      <th>first_name</th>\n      <td>0</td>\n    </tr>\n    <tr>\n      <th>last_name</th>\n      <td>0</td>\n    </tr>\n    <tr>\n      <th>gender</th>\n      <td>0</td>\n    </tr>\n    <tr>\n      <th>level</th>\n      <td>0</td>\n    </tr>\n  </tbody>\n</table>\n</div>"
     },
     "metadata": {},
     "execution_count": 12
    }
   ],
   "source": [
    "null_users"
   ]
  },
  {
   "source": [
    "** Songs **"
   ],
   "cell_type": "markdown",
   "metadata": {}
  },
  {
   "source": [
    "null_userId =   %sql SELECT COUNT(song_id)   FROM songs WHERE song_id IS NULL;\n",
    "null_title =    %sql SELECT COUNT(title)     FROM songs WHERE title IS NULL;\n",
    "null_artistId = %sql SELECT COUNT(artist_id) FROM songs WHERE artist_id IS NULL;\n",
    "null_year =     %sql SELECT COUNT(year)      FROM songs WHERE year IS NULL;\n",
    "null_duration = %sql SELECT COUNT(duration)  FROM songs WHERE duration IS NULL;\n",
    "null_s = [item[0][0] for item in [null_userId, null_title, null_artistId, null_year, null_duration]]\n",
    "null_songs = pd.DataFrame(data = {'num_nulls': null_s}, index = ['user_id', 'title', 'artist_id', 'year', 'duration'])"
   ],
   "cell_type": "code",
   "metadata": {},
   "execution_count": null,
   "outputs": []
  },
  {
   "cell_type": "code",
   "execution_count": 14,
   "metadata": {},
   "outputs": [
    {
     "output_type": "execute_result",
     "data": {
      "text/plain": [
       "           num_nulls\n",
       "user_id            0\n",
       "title              0\n",
       "artist_id          0\n",
       "year               0\n",
       "duration           0"
      ],
      "text/html": "<div>\n<style scoped>\n    .dataframe tbody tr th:only-of-type {\n        vertical-align: middle;\n    }\n\n    .dataframe tbody tr th {\n        vertical-align: top;\n    }\n\n    .dataframe thead th {\n        text-align: right;\n    }\n</style>\n<table border=\"1\" class=\"dataframe\">\n  <thead>\n    <tr style=\"text-align: right;\">\n      <th></th>\n      <th>num_nulls</th>\n    </tr>\n  </thead>\n  <tbody>\n    <tr>\n      <th>user_id</th>\n      <td>0</td>\n    </tr>\n    <tr>\n      <th>title</th>\n      <td>0</td>\n    </tr>\n    <tr>\n      <th>artist_id</th>\n      <td>0</td>\n    </tr>\n    <tr>\n      <th>year</th>\n      <td>0</td>\n    </tr>\n    <tr>\n      <th>duration</th>\n      <td>0</td>\n    </tr>\n  </tbody>\n</table>\n</div>"
     },
     "metadata": {},
     "execution_count": 14
    }
   ],
   "source": [
    "null_songs"
   ]
  },
  {
   "source": [
    "** Artists **"
   ],
   "cell_type": "markdown",
   "metadata": {}
  },
  {
   "source": [
    "null_artistId = %sql SELECT COUNT(artist_id) FROM artists WHERE artist_id IS NULL;\n",
    "null_name =     %sql SELECT COUNT(name)      FROM artists WHERE name IS NULL;\n",
    "null_location = %sql SELECT COUNT(location)  FROM artists WHERE location IS NULL;\n",
    "null_lat =      %sql SELECT COUNT(latitude)  FROM artists WHERE latitude IS NULL;\n",
    "null_long =     %sql SELECT COUNT(longitude) FROM artists WHERE longitude IS NULL;\n",
    "null_a = [item[0][0] for item in [null_artistId, null_name, null_location, null_lat, null_long]]\n",
    "null_artists = pd.DataFrame(data = {'num_nulls': null_a}, index = ['artist_id', 'name', 'location', 'latitude', 'longitude'])"
   ],
   "cell_type": "code",
   "metadata": {},
   "execution_count": null,
   "outputs": []
  },
  {
   "cell_type": "code",
   "execution_count": 16,
   "metadata": {},
   "outputs": [
    {
     "output_type": "execute_result",
     "data": {
      "text/plain": [
       "           num_nulls\n",
       "artist_id          0\n",
       "name               0\n",
       "location           0\n",
       "latitude           0\n",
       "longitude          0"
      ],
      "text/html": "<div>\n<style scoped>\n    .dataframe tbody tr th:only-of-type {\n        vertical-align: middle;\n    }\n\n    .dataframe tbody tr th {\n        vertical-align: top;\n    }\n\n    .dataframe thead th {\n        text-align: right;\n    }\n</style>\n<table border=\"1\" class=\"dataframe\">\n  <thead>\n    <tr style=\"text-align: right;\">\n      <th></th>\n      <th>num_nulls</th>\n    </tr>\n  </thead>\n  <tbody>\n    <tr>\n      <th>artist_id</th>\n      <td>0</td>\n    </tr>\n    <tr>\n      <th>name</th>\n      <td>0</td>\n    </tr>\n    <tr>\n      <th>location</th>\n      <td>0</td>\n    </tr>\n    <tr>\n      <th>latitude</th>\n      <td>0</td>\n    </tr>\n    <tr>\n      <th>longitude</th>\n      <td>0</td>\n    </tr>\n  </tbody>\n</table>\n</div>"
     },
     "metadata": {},
     "execution_count": 16
    }
   ],
   "source": [
    "null_artists"
   ]
  },
  {
   "source": [
    "## Example records Per Table "
   ],
   "cell_type": "markdown",
   "metadata": {}
  },
  {
   "source": [
    "** Songplays **"
   ],
   "cell_type": "markdown",
   "metadata": {}
  },
  {
   "source": [
    "response = %sql SELECT * FROM songplays LIMIT 5;\n",
    "response = response.DataFrame()"
   ],
   "cell_type": "code",
   "metadata": {},
   "execution_count": null,
   "outputs": []
  },
  {
   "cell_type": "code",
   "execution_count": 18,
   "metadata": {},
   "outputs": [
    {
     "output_type": "execute_result",
     "data": {
      "text/plain": [
       "   songplay_id              start_time  user_id level             song_id  \\\n",
       "0            2 2018-11-28 22:56:08.796       73  paid  SOBONKR12A58A7A7E0   \n",
       "1           18 2018-11-28 22:32:42.796       73  paid  SOBONKR12A58A7A7E0   \n",
       "2           34 2018-11-22 01:59:04.796       15  paid  SOBONKR12A58A7A7E0   \n",
       "3           50 2018-11-19 06:45:01.796       24  paid  SOBONKR12A58A7A7E0   \n",
       "4           66 2018-11-25 16:14:24.796       49  paid  SOBONKR12A58A7A7E0   \n",
       "\n",
       "            artist_id  session_id                             location  \\\n",
       "0  AR5E44Z1187B9A1D74         954  Tampa-St. Petersburg-Clearwater, FL   \n",
       "1  AR5E44Z1187B9A1D74         954  Tampa-St. Petersburg-Clearwater, FL   \n",
       "2  AR5E44Z1187B9A1D74         818   Chicago-Naperville-Elgin, IL-IN-WI   \n",
       "3  AR5E44Z1187B9A1D74         672         Lake Havasu City-Kingman, AZ   \n",
       "4  AR5E44Z1187B9A1D74         923    San Francisco-Oakland-Hayward, CA   \n",
       "\n",
       "                                          user_agent  \n",
       "0  \"Mozilla/5.0 (Macintosh; Intel Mac OS X 10_9_4...  \n",
       "1  \"Mozilla/5.0 (Macintosh; Intel Mac OS X 10_9_4...  \n",
       "2  \"Mozilla/5.0 (X11; Linux x86_64) AppleWebKit/5...  \n",
       "3  \"Mozilla/5.0 (Windows NT 6.1; WOW64) AppleWebK...  \n",
       "4  Mozilla/5.0 (Windows NT 5.1; rv:31.0) Gecko/20...  "
      ],
      "text/html": "<div>\n<style scoped>\n    .dataframe tbody tr th:only-of-type {\n        vertical-align: middle;\n    }\n\n    .dataframe tbody tr th {\n        vertical-align: top;\n    }\n\n    .dataframe thead th {\n        text-align: right;\n    }\n</style>\n<table border=\"1\" class=\"dataframe\">\n  <thead>\n    <tr style=\"text-align: right;\">\n      <th></th>\n      <th>songplay_id</th>\n      <th>start_time</th>\n      <th>user_id</th>\n      <th>level</th>\n      <th>song_id</th>\n      <th>artist_id</th>\n      <th>session_id</th>\n      <th>location</th>\n      <th>user_agent</th>\n    </tr>\n  </thead>\n  <tbody>\n    <tr>\n      <th>0</th>\n      <td>2</td>\n      <td>2018-11-28 22:56:08.796</td>\n      <td>73</td>\n      <td>paid</td>\n      <td>SOBONKR12A58A7A7E0</td>\n      <td>AR5E44Z1187B9A1D74</td>\n      <td>954</td>\n      <td>Tampa-St. Petersburg-Clearwater, FL</td>\n      <td>\"Mozilla/5.0 (Macintosh; Intel Mac OS X 10_9_4...</td>\n    </tr>\n    <tr>\n      <th>1</th>\n      <td>18</td>\n      <td>2018-11-28 22:32:42.796</td>\n      <td>73</td>\n      <td>paid</td>\n      <td>SOBONKR12A58A7A7E0</td>\n      <td>AR5E44Z1187B9A1D74</td>\n      <td>954</td>\n      <td>Tampa-St. Petersburg-Clearwater, FL</td>\n      <td>\"Mozilla/5.0 (Macintosh; Intel Mac OS X 10_9_4...</td>\n    </tr>\n    <tr>\n      <th>2</th>\n      <td>34</td>\n      <td>2018-11-22 01:59:04.796</td>\n      <td>15</td>\n      <td>paid</td>\n      <td>SOBONKR12A58A7A7E0</td>\n      <td>AR5E44Z1187B9A1D74</td>\n      <td>818</td>\n      <td>Chicago-Naperville-Elgin, IL-IN-WI</td>\n      <td>\"Mozilla/5.0 (X11; Linux x86_64) AppleWebKit/5...</td>\n    </tr>\n    <tr>\n      <th>3</th>\n      <td>50</td>\n      <td>2018-11-19 06:45:01.796</td>\n      <td>24</td>\n      <td>paid</td>\n      <td>SOBONKR12A58A7A7E0</td>\n      <td>AR5E44Z1187B9A1D74</td>\n      <td>672</td>\n      <td>Lake Havasu City-Kingman, AZ</td>\n      <td>\"Mozilla/5.0 (Windows NT 6.1; WOW64) AppleWebK...</td>\n    </tr>\n    <tr>\n      <th>4</th>\n      <td>66</td>\n      <td>2018-11-25 16:14:24.796</td>\n      <td>49</td>\n      <td>paid</td>\n      <td>SOBONKR12A58A7A7E0</td>\n      <td>AR5E44Z1187B9A1D74</td>\n      <td>923</td>\n      <td>San Francisco-Oakland-Hayward, CA</td>\n      <td>Mozilla/5.0 (Windows NT 5.1; rv:31.0) Gecko/20...</td>\n    </tr>\n  </tbody>\n</table>\n</div>"
     },
     "metadata": {},
     "execution_count": 18
    }
   ],
   "source": [
    "response"
   ]
  },
  {
   "source": [
    "** Users **"
   ],
   "cell_type": "markdown",
   "metadata": {}
  },
  {
   "source": [
    "response = %sql SELECT * FROM users LIMIT 5;\n",
    "response = response.DataFrame()"
   ],
   "cell_type": "code",
   "metadata": {},
   "execution_count": null,
   "outputs": []
  },
  {
   "cell_type": "code",
   "execution_count": 20,
   "metadata": {},
   "outputs": [
    {
     "output_type": "execute_result",
     "data": {
      "text/plain": [
       "   user_id first_name last_name gender level\n",
       "0       39     Walter      Frye      M  free\n",
       "1       18      Jacob    Rogers      M  free\n",
       "2       72     Hayden     Brock      F  paid\n",
       "3       97       Kate   Harrell      F  paid\n",
       "4       67       Colm   Santana      M  free"
      ],
      "text/html": "<div>\n<style scoped>\n    .dataframe tbody tr th:only-of-type {\n        vertical-align: middle;\n    }\n\n    .dataframe tbody tr th {\n        vertical-align: top;\n    }\n\n    .dataframe thead th {\n        text-align: right;\n    }\n</style>\n<table border=\"1\" class=\"dataframe\">\n  <thead>\n    <tr style=\"text-align: right;\">\n      <th></th>\n      <th>user_id</th>\n      <th>first_name</th>\n      <th>last_name</th>\n      <th>gender</th>\n      <th>level</th>\n    </tr>\n  </thead>\n  <tbody>\n    <tr>\n      <th>0</th>\n      <td>39</td>\n      <td>Walter</td>\n      <td>Frye</td>\n      <td>M</td>\n      <td>free</td>\n    </tr>\n    <tr>\n      <th>1</th>\n      <td>18</td>\n      <td>Jacob</td>\n      <td>Rogers</td>\n      <td>M</td>\n      <td>free</td>\n    </tr>\n    <tr>\n      <th>2</th>\n      <td>72</td>\n      <td>Hayden</td>\n      <td>Brock</td>\n      <td>F</td>\n      <td>paid</td>\n    </tr>\n    <tr>\n      <th>3</th>\n      <td>97</td>\n      <td>Kate</td>\n      <td>Harrell</td>\n      <td>F</td>\n      <td>paid</td>\n    </tr>\n    <tr>\n      <th>4</th>\n      <td>67</td>\n      <td>Colm</td>\n      <td>Santana</td>\n      <td>M</td>\n      <td>free</td>\n    </tr>\n  </tbody>\n</table>\n</div>"
     },
     "metadata": {},
     "execution_count": 20
    }
   ],
   "source": [
    "response"
   ]
  },
  {
   "source": [
    "** Songs **"
   ],
   "cell_type": "markdown",
   "metadata": {}
  },
  {
   "source": [
    "response = %sql SELECT * FROM songs LIMIT 5;\n",
    "response = response.DataFrame()"
   ],
   "cell_type": "code",
   "metadata": {},
   "execution_count": null,
   "outputs": []
  },
  {
   "cell_type": "code",
   "execution_count": 22,
   "metadata": {},
   "outputs": [
    {
     "output_type": "execute_result",
     "data": {
      "text/plain": [
       "              song_id                title           artist_id  year  \\\n",
       "0  SOVCPPL12A8C13F177            Toca Toca  ARWB73A1187FB5C9DF  2007   \n",
       "1  SOLOZLZ12A58A78D88      Indian Carnival  ARU63BJ1187FB3E997  1954   \n",
       "2  SOQDNVA12AF729B1D1            Duck Down  ARH7M7Z1187B99B894     0   \n",
       "3  SOUPGMR12AB01820DD            Døden Nær  AR1ILHX1187FB53892  2005   \n",
       "4  SOXUEGX12A8C13C161  Operation: M.O.V.E.  AR8JO2B1187B98EBB6  2004   \n",
       "\n",
       "     duration  \n",
       "0  185.024849  \n",
       "1  126.327710  \n",
       "2  169.873830  \n",
       "3  266.631379  \n",
       "4  625.057509  "
      ],
      "text/html": "<div>\n<style scoped>\n    .dataframe tbody tr th:only-of-type {\n        vertical-align: middle;\n    }\n\n    .dataframe tbody tr th {\n        vertical-align: top;\n    }\n\n    .dataframe thead th {\n        text-align: right;\n    }\n</style>\n<table border=\"1\" class=\"dataframe\">\n  <thead>\n    <tr style=\"text-align: right;\">\n      <th></th>\n      <th>song_id</th>\n      <th>title</th>\n      <th>artist_id</th>\n      <th>year</th>\n      <th>duration</th>\n    </tr>\n  </thead>\n  <tbody>\n    <tr>\n      <th>0</th>\n      <td>SOVCPPL12A8C13F177</td>\n      <td>Toca Toca</td>\n      <td>ARWB73A1187FB5C9DF</td>\n      <td>2007</td>\n      <td>185.024849</td>\n    </tr>\n    <tr>\n      <th>1</th>\n      <td>SOLOZLZ12A58A78D88</td>\n      <td>Indian Carnival</td>\n      <td>ARU63BJ1187FB3E997</td>\n      <td>1954</td>\n      <td>126.327710</td>\n    </tr>\n    <tr>\n      <th>2</th>\n      <td>SOQDNVA12AF729B1D1</td>\n      <td>Duck Down</td>\n      <td>ARH7M7Z1187B99B894</td>\n      <td>0</td>\n      <td>169.873830</td>\n    </tr>\n    <tr>\n      <th>3</th>\n      <td>SOUPGMR12AB01820DD</td>\n      <td>Døden Nær</td>\n      <td>AR1ILHX1187FB53892</td>\n      <td>2005</td>\n      <td>266.631379</td>\n    </tr>\n    <tr>\n      <th>4</th>\n      <td>SOXUEGX12A8C13C161</td>\n      <td>Operation: M.O.V.E.</td>\n      <td>AR8JO2B1187B98EBB6</td>\n      <td>2004</td>\n      <td>625.057509</td>\n    </tr>\n  </tbody>\n</table>\n</div>"
     },
     "metadata": {},
     "execution_count": 22
    }
   ],
   "source": [
    "response"
   ]
  },
  {
   "source": [
    "** Artistis **"
   ],
   "cell_type": "markdown",
   "metadata": {}
  },
  {
   "source": [
    "response = %sql SELECT * FROM artists LIMIT 5;\n",
    "response = response.DataFrame()"
   ],
   "cell_type": "code",
   "metadata": {},
   "execution_count": null,
   "outputs": []
  },
  {
   "cell_type": "code",
   "execution_count": 24,
   "metadata": {},
   "outputs": [
    {
     "output_type": "execute_result",
     "data": {
      "text/plain": [
       "            artist_id               name     location   latitude   longitude\n",
       "0  ARWUK9L11C8A42C37B          Workhorse  Mississippi  32.585070  -89.873739\n",
       "1  ARAQJZS1187B9B55E9            Musetta        ITALY       None        None\n",
       "2  ARPKDY81187B98DFF7  Har Mar Superstar                    None        None\n",
       "3  AR9Q34X1187B9A28B6     Caedmon's Call                    None        None\n",
       "4  AR8UA7Z1187B9AD9C9       Étienne Daho       Rennes  48.107509   -1.684469"
      ],
      "text/html": "<div>\n<style scoped>\n    .dataframe tbody tr th:only-of-type {\n        vertical-align: middle;\n    }\n\n    .dataframe tbody tr th {\n        vertical-align: top;\n    }\n\n    .dataframe thead th {\n        text-align: right;\n    }\n</style>\n<table border=\"1\" class=\"dataframe\">\n  <thead>\n    <tr style=\"text-align: right;\">\n      <th></th>\n      <th>artist_id</th>\n      <th>name</th>\n      <th>location</th>\n      <th>latitude</th>\n      <th>longitude</th>\n    </tr>\n  </thead>\n  <tbody>\n    <tr>\n      <th>0</th>\n      <td>ARWUK9L11C8A42C37B</td>\n      <td>Workhorse</td>\n      <td>Mississippi</td>\n      <td>32.585070</td>\n      <td>-89.873739</td>\n    </tr>\n    <tr>\n      <th>1</th>\n      <td>ARAQJZS1187B9B55E9</td>\n      <td>Musetta</td>\n      <td>ITALY</td>\n      <td>None</td>\n      <td>None</td>\n    </tr>\n    <tr>\n      <th>2</th>\n      <td>ARPKDY81187B98DFF7</td>\n      <td>Har Mar Superstar</td>\n      <td></td>\n      <td>None</td>\n      <td>None</td>\n    </tr>\n    <tr>\n      <th>3</th>\n      <td>AR9Q34X1187B9A28B6</td>\n      <td>Caedmon's Call</td>\n      <td></td>\n      <td>None</td>\n      <td>None</td>\n    </tr>\n    <tr>\n      <th>4</th>\n      <td>AR8UA7Z1187B9AD9C9</td>\n      <td>Étienne Daho</td>\n      <td>Rennes</td>\n      <td>48.107509</td>\n      <td>-1.684469</td>\n    </tr>\n  </tbody>\n</table>\n</div>"
     },
     "metadata": {},
     "execution_count": 24
    }
   ],
   "source": [
    "response"
   ]
  },
  {
   "source": [
    "** Time **"
   ],
   "cell_type": "markdown",
   "metadata": {}
  },
  {
   "source": [
    "response = %sql SELECT * FROM time LIMIT 5;\n",
    "response = response.DataFrame()"
   ],
   "cell_type": "code",
   "metadata": {},
   "execution_count": null,
   "outputs": []
  },
  {
   "cell_type": "code",
   "execution_count": 26,
   "metadata": {},
   "outputs": [
    {
     "output_type": "execute_result",
     "data": {
      "text/plain": [
       "               start_time  hour  day  week  month  year  weekday\n",
       "0 2018-11-13 01:12:29.796     1   13    46     11  2018        2\n",
       "1 2018-11-13 08:20:35.796     8   13    46     11  2018        2\n",
       "2 2018-11-13 08:25:59.796     8   13    46     11  2018        2\n",
       "3 2018-11-13 08:53:21.796     8   13    46     11  2018        2\n",
       "4 2018-11-13 09:02:33.796     9   13    46     11  2018        2"
      ],
      "text/html": "<div>\n<style scoped>\n    .dataframe tbody tr th:only-of-type {\n        vertical-align: middle;\n    }\n\n    .dataframe tbody tr th {\n        vertical-align: top;\n    }\n\n    .dataframe thead th {\n        text-align: right;\n    }\n</style>\n<table border=\"1\" class=\"dataframe\">\n  <thead>\n    <tr style=\"text-align: right;\">\n      <th></th>\n      <th>start_time</th>\n      <th>hour</th>\n      <th>day</th>\n      <th>week</th>\n      <th>month</th>\n      <th>year</th>\n      <th>weekday</th>\n    </tr>\n  </thead>\n  <tbody>\n    <tr>\n      <th>0</th>\n      <td>2018-11-13 01:12:29.796</td>\n      <td>1</td>\n      <td>13</td>\n      <td>46</td>\n      <td>11</td>\n      <td>2018</td>\n      <td>2</td>\n    </tr>\n    <tr>\n      <th>1</th>\n      <td>2018-11-13 08:20:35.796</td>\n      <td>8</td>\n      <td>13</td>\n      <td>46</td>\n      <td>11</td>\n      <td>2018</td>\n      <td>2</td>\n    </tr>\n    <tr>\n      <th>2</th>\n      <td>2018-11-13 08:25:59.796</td>\n      <td>8</td>\n      <td>13</td>\n      <td>46</td>\n      <td>11</td>\n      <td>2018</td>\n      <td>2</td>\n    </tr>\n    <tr>\n      <th>3</th>\n      <td>2018-11-13 08:53:21.796</td>\n      <td>8</td>\n      <td>13</td>\n      <td>46</td>\n      <td>11</td>\n      <td>2018</td>\n      <td>2</td>\n    </tr>\n    <tr>\n      <th>4</th>\n      <td>2018-11-13 09:02:33.796</td>\n      <td>9</td>\n      <td>13</td>\n      <td>46</td>\n      <td>11</td>\n      <td>2018</td>\n      <td>2</td>\n    </tr>\n  </tbody>\n</table>\n</div>"
     },
     "metadata": {},
     "execution_count": 26
    }
   ],
   "source": [
    "response"
   ]
  },
  {
   "source": [
    "## Check max and min for numerical attribute"
   ],
   "cell_type": "markdown",
   "metadata": {}
  },
  {
   "source": [
    "response = %sql SELECT max(duration), min(duration) FROM songs;\n",
    "response = response.DataFrame()"
   ],
   "cell_type": "code",
   "metadata": {},
   "execution_count": null,
   "outputs": []
  },
  {
   "cell_type": "code",
   "execution_count": 28,
   "metadata": {},
   "outputs": [
    {
     "output_type": "execute_result",
     "data": {
      "text/plain": [
       "           max       min\n",
       "0  2709.237099  6.373420"
      ],
      "text/html": "<div>\n<style scoped>\n    .dataframe tbody tr th:only-of-type {\n        vertical-align: middle;\n    }\n\n    .dataframe tbody tr th {\n        vertical-align: top;\n    }\n\n    .dataframe thead th {\n        text-align: right;\n    }\n</style>\n<table border=\"1\" class=\"dataframe\">\n  <thead>\n    <tr style=\"text-align: right;\">\n      <th></th>\n      <th>max</th>\n      <th>min</th>\n    </tr>\n  </thead>\n  <tbody>\n    <tr>\n      <th>0</th>\n      <td>2709.237099</td>\n      <td>6.373420</td>\n    </tr>\n  </tbody>\n</table>\n</div>"
     },
     "metadata": {},
     "execution_count": 28
    }
   ],
   "source": [
    "response"
   ]
  },
  {
   "source": [
    "## Check level in users table was properly updated"
   ],
   "cell_type": "markdown",
   "metadata": {}
  },
  {
   "source": [
    "response = %sql SELECT user_id FROM (SELECT user_id, level FROM songplays GROUP BY user_id, level) AS u GROUP BY user_id HAVING COUNT(*) > 1 ORDER BY user_id;\n",
    "ids = tuple([item[0] for item in response])"
   ],
   "cell_type": "code",
   "metadata": {},
   "execution_count": null,
   "outputs": []
  },
  {
   "source": [
    "response  = %sql SELECT user_id, level, dat FROM (SELECT user_id, level, DATE(start_time) AS dat FROM songplays WHERE user_id in $ids) GROUP BY user_id, level, dat ORDER BY user_id, dat; "
   ],
   "cell_type": "code",
   "metadata": {},
   "execution_count": null,
   "outputs": []
  },
  {
   "cell_type": "code",
   "execution_count": 33,
   "metadata": {},
   "outputs": [
    {
     "output_type": "execute_result",
     "data": {
      "text/plain": [
       "    user_id level         dat\n",
       "0        16  free  2018-11-11\n",
       "1        16  paid  2018-11-14\n",
       "2        16  paid  2018-11-29\n",
       "3        16  paid  2018-11-30\n",
       "4        36  free  2018-11-09\n",
       "5        36  paid  2018-11-09\n",
       "6        36  paid  2018-11-10\n",
       "7        36  paid  2018-11-16\n",
       "8        36  paid  2018-11-26\n",
       "9        36  paid  2018-11-27\n",
       "10       36  paid  2018-11-30\n",
       "11       49  free  2018-11-03\n",
       "12       49  free  2018-11-09\n",
       "13       49  paid  2018-11-14\n",
       "14       49  paid  2018-11-15\n",
       "15       49  paid  2018-11-16\n",
       "16       49  paid  2018-11-19\n",
       "17       49  paid  2018-11-20\n",
       "18       49  paid  2018-11-21\n",
       "19       49  paid  2018-11-24\n",
       "20       49  paid  2018-11-25\n",
       "21       49  paid  2018-11-26\n",
       "22       49  paid  2018-11-27\n",
       "23       49  paid  2018-11-28\n",
       "24       49  paid  2018-11-29\n",
       "25       49  paid  2018-11-30\n",
       "26       88  free  2018-11-09\n",
       "27       88  paid  2018-11-21\n",
       "28       88  paid  2018-11-23\n",
       "29       88  paid  2018-11-24\n",
       "30       88  paid  2018-11-26\n",
       "31       88  paid  2018-11-27\n",
       "32       88  paid  2018-11-28"
      ],
      "text/html": "<div>\n<style scoped>\n    .dataframe tbody tr th:only-of-type {\n        vertical-align: middle;\n    }\n\n    .dataframe tbody tr th {\n        vertical-align: top;\n    }\n\n    .dataframe thead th {\n        text-align: right;\n    }\n</style>\n<table border=\"1\" class=\"dataframe\">\n  <thead>\n    <tr style=\"text-align: right;\">\n      <th></th>\n      <th>user_id</th>\n      <th>level</th>\n      <th>dat</th>\n    </tr>\n  </thead>\n  <tbody>\n    <tr>\n      <th>0</th>\n      <td>16</td>\n      <td>free</td>\n      <td>2018-11-11</td>\n    </tr>\n    <tr>\n      <th>1</th>\n      <td>16</td>\n      <td>paid</td>\n      <td>2018-11-14</td>\n    </tr>\n    <tr>\n      <th>2</th>\n      <td>16</td>\n      <td>paid</td>\n      <td>2018-11-29</td>\n    </tr>\n    <tr>\n      <th>3</th>\n      <td>16</td>\n      <td>paid</td>\n      <td>2018-11-30</td>\n    </tr>\n    <tr>\n      <th>4</th>\n      <td>36</td>\n      <td>free</td>\n      <td>2018-11-09</td>\n    </tr>\n    <tr>\n      <th>5</th>\n      <td>36</td>\n      <td>paid</td>\n      <td>2018-11-09</td>\n    </tr>\n    <tr>\n      <th>6</th>\n      <td>36</td>\n      <td>paid</td>\n      <td>2018-11-10</td>\n    </tr>\n    <tr>\n      <th>7</th>\n      <td>36</td>\n      <td>paid</td>\n      <td>2018-11-16</td>\n    </tr>\n    <tr>\n      <th>8</th>\n      <td>36</td>\n      <td>paid</td>\n      <td>2018-11-26</td>\n    </tr>\n    <tr>\n      <th>9</th>\n      <td>36</td>\n      <td>paid</td>\n      <td>2018-11-27</td>\n    </tr>\n    <tr>\n      <th>10</th>\n      <td>36</td>\n      <td>paid</td>\n      <td>2018-11-30</td>\n    </tr>\n    <tr>\n      <th>11</th>\n      <td>49</td>\n      <td>free</td>\n      <td>2018-11-03</td>\n    </tr>\n    <tr>\n      <th>12</th>\n      <td>49</td>\n      <td>free</td>\n      <td>2018-11-09</td>\n    </tr>\n    <tr>\n      <th>13</th>\n      <td>49</td>\n      <td>paid</td>\n      <td>2018-11-14</td>\n    </tr>\n    <tr>\n      <th>14</th>\n      <td>49</td>\n      <td>paid</td>\n      <td>2018-11-15</td>\n    </tr>\n    <tr>\n      <th>15</th>\n      <td>49</td>\n      <td>paid</td>\n      <td>2018-11-16</td>\n    </tr>\n    <tr>\n      <th>16</th>\n      <td>49</td>\n      <td>paid</td>\n      <td>2018-11-19</td>\n    </tr>\n    <tr>\n      <th>17</th>\n      <td>49</td>\n      <td>paid</td>\n      <td>2018-11-20</td>\n    </tr>\n    <tr>\n      <th>18</th>\n      <td>49</td>\n      <td>paid</td>\n      <td>2018-11-21</td>\n    </tr>\n    <tr>\n      <th>19</th>\n      <td>49</td>\n      <td>paid</td>\n      <td>2018-11-24</td>\n    </tr>\n    <tr>\n      <th>20</th>\n      <td>49</td>\n      <td>paid</td>\n      <td>2018-11-25</td>\n    </tr>\n    <tr>\n      <th>21</th>\n      <td>49</td>\n      <td>paid</td>\n      <td>2018-11-26</td>\n    </tr>\n    <tr>\n      <th>22</th>\n      <td>49</td>\n      <td>paid</td>\n      <td>2018-11-27</td>\n    </tr>\n    <tr>\n      <th>23</th>\n      <td>49</td>\n      <td>paid</td>\n      <td>2018-11-28</td>\n    </tr>\n    <tr>\n      <th>24</th>\n      <td>49</td>\n      <td>paid</td>\n      <td>2018-11-29</td>\n    </tr>\n    <tr>\n      <th>25</th>\n      <td>49</td>\n      <td>paid</td>\n      <td>2018-11-30</td>\n    </tr>\n    <tr>\n      <th>26</th>\n      <td>88</td>\n      <td>free</td>\n      <td>2018-11-09</td>\n    </tr>\n    <tr>\n      <th>27</th>\n      <td>88</td>\n      <td>paid</td>\n      <td>2018-11-21</td>\n    </tr>\n    <tr>\n      <th>28</th>\n      <td>88</td>\n      <td>paid</td>\n      <td>2018-11-23</td>\n    </tr>\n    <tr>\n      <th>29</th>\n      <td>88</td>\n      <td>paid</td>\n      <td>2018-11-24</td>\n    </tr>\n    <tr>\n      <th>30</th>\n      <td>88</td>\n      <td>paid</td>\n      <td>2018-11-26</td>\n    </tr>\n    <tr>\n      <th>31</th>\n      <td>88</td>\n      <td>paid</td>\n      <td>2018-11-27</td>\n    </tr>\n    <tr>\n      <th>32</th>\n      <td>88</td>\n      <td>paid</td>\n      <td>2018-11-28</td>\n    </tr>\n  </tbody>\n</table>\n</div>"
     },
     "metadata": {},
     "execution_count": 33
    }
   ],
   "source": [
    "response = response.DataFrame()\n",
    "response"
   ]
  },
  {
   "source": [
    "** Current level for the users **"
   ],
   "cell_type": "markdown",
   "metadata": {}
  },
  {
   "source": [
    "response = %sql SELECT user_id, level FROM users WHERE user_id in $ids ORDER BY user_id;\n",
    "response = response.DataFrame()"
   ],
   "cell_type": "code",
   "metadata": {},
   "execution_count": null,
   "outputs": []
  },
  {
   "cell_type": "code",
   "execution_count": 35,
   "metadata": {},
   "outputs": [
    {
     "output_type": "execute_result",
     "data": {
      "text/plain": [
       "   user_id level\n",
       "0       16  paid\n",
       "1       36  paid\n",
       "2       49  paid\n",
       "3       88  paid"
      ],
      "text/html": "<div>\n<style scoped>\n    .dataframe tbody tr th:only-of-type {\n        vertical-align: middle;\n    }\n\n    .dataframe tbody tr th {\n        vertical-align: top;\n    }\n\n    .dataframe thead th {\n        text-align: right;\n    }\n</style>\n<table border=\"1\" class=\"dataframe\">\n  <thead>\n    <tr style=\"text-align: right;\">\n      <th></th>\n      <th>user_id</th>\n      <th>level</th>\n    </tr>\n  </thead>\n  <tbody>\n    <tr>\n      <th>0</th>\n      <td>16</td>\n      <td>paid</td>\n    </tr>\n    <tr>\n      <th>1</th>\n      <td>36</td>\n      <td>paid</td>\n    </tr>\n    <tr>\n      <th>2</th>\n      <td>49</td>\n      <td>paid</td>\n    </tr>\n    <tr>\n      <th>3</th>\n      <td>88</td>\n      <td>paid</td>\n    </tr>\n  </tbody>\n</table>\n</div>"
     },
     "metadata": {},
     "execution_count": 35
    }
   ],
   "source": [
    "response"
   ]
  },
  {
   "source": [
    "## Clean up resources"
   ],
   "cell_type": "markdown",
   "metadata": {}
  },
  {
   "cell_type": "code",
   "execution_count": 45,
   "metadata": {},
   "outputs": [],
   "source": [
    "redshift = boto3.client('redshift',region_name=DB_REGION,aws_access_key_id=KEY,aws_secret_access_key=SECRET)\n",
    "iam = boto3.client('iam',region_name=DB_REGION,aws_access_key_id=KEY,aws_secret_access_key=SECRET)"
   ]
  },
  {
   "source": [
    "response = redshift.delete_cluster(ClusterIdentifier=DB_CLUSTER_IDENTIFIER, SkipFinalClusterSnapshot=True)"
   ],
   "cell_type": "code",
   "metadata": {},
   "execution_count": 46,
   "outputs": []
  },
  {
   "cell_type": "code",
   "execution_count": 47,
   "metadata": {},
   "outputs": [],
   "source": [
    "waiter = redshift.get_waiter('cluster_deleted')\n",
    "waiter.wait(ClusterIdentifier=DB_CLUSTER_IDENTIFIER)"
   ]
  },
  {
   "source": [
    "iam.detach_role_policy(RoleName=DB_IAM_ROLE_NAME, PolicyArn=\"arn:aws:iam::aws:policy/AmazonS3ReadOnlyAccess\")\n",
    "iam.delete_role(RoleName=DB_IAM_ROLE_NAME)  "
   ],
   "cell_type": "code",
   "metadata": {},
   "execution_count": null,
   "outputs": []
  },
  {
   "cell_type": "code",
   "execution_count": null,
   "metadata": {},
   "outputs": [],
   "source": []
  }
 ]
}